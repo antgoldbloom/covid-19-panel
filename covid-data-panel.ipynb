{
 "cells": [
  {
   "cell_type": "code",
   "execution_count": 1,
   "id": "c6e2bfe0",
   "metadata": {
    "execution": {
     "iopub.execute_input": "2021-08-02T04:49:49.070219Z",
     "iopub.status.busy": "2021-08-02T04:49:49.068982Z",
     "iopub.status.idle": "2021-08-02T04:49:49.072735Z",
     "shell.execute_reply": "2021-08-02T04:49:49.073284Z"
    },
    "papermill": {
     "duration": 0.02632,
     "end_time": "2021-08-02T04:49:49.073591",
     "exception": false,
     "start_time": "2021-08-02T04:49:49.047271",
     "status": "completed"
    },
    "tags": []
   },
   "outputs": [],
   "source": [
    "#solve memory issue\n",
    "\n",
    "#do EDA to:\n",
    "# - look for data cleaning opportunities\n",
    "# - check the data\n",
    "\n",
    "# additional datasets \n",
    "## apple mobility data\n",
    "## case positive rate"
   ]
  },
  {
   "cell_type": "code",
   "execution_count": 2,
   "id": "5e993b3d",
   "metadata": {
    "_cell_guid": "b1076dfc-b9ad-4769-8c92-a6c4dae69d19",
    "_uuid": "8f2839f25d086af736a60e9eeb907d3b93b6e0e5",
    "execution": {
     "iopub.execute_input": "2021-08-02T04:49:49.111217Z",
     "iopub.status.busy": "2021-08-02T04:49:49.110531Z",
     "iopub.status.idle": "2021-08-02T04:49:49.125668Z",
     "shell.execute_reply": "2021-08-02T04:49:49.125091Z",
     "shell.execute_reply.started": "2021-08-02T04:37:52.756644Z"
    },
    "papermill": {
     "duration": 0.035339,
     "end_time": "2021-08-02T04:49:49.125817",
     "exception": false,
     "start_time": "2021-08-02T04:49:49.090478",
     "status": "completed"
    },
    "tags": []
   },
   "outputs": [],
   "source": [
    "import pandas as pd\n",
    "import numpy as np\n",
    "\n",
    "import requests\n",
    "from io import StringIO \n",
    "\n",
    "from datetime import datetime\n",
    "\n",
    "import os\n",
    "\n",
    "from pathlib import Path\n",
    "import shutil\n",
    "\n",
    "pd.set_option('max_rows',100)\n",
    "\n",
    "csv_path = '/kaggle/working/'\n",
    "\n",
    "dict_df = {}"
   ]
  },
  {
   "cell_type": "markdown",
   "id": "0d648660",
   "metadata": {
    "papermill": {
     "duration": 0.018753,
     "end_time": "2021-08-02T04:49:49.168915",
     "exception": false,
     "start_time": "2021-08-02T04:49:49.150162",
     "status": "completed"
    },
    "tags": []
   },
   "source": [
    "# Helper functions"
   ]
  },
  {
   "cell_type": "code",
   "execution_count": 3,
   "id": "337ce2ab",
   "metadata": {
    "execution": {
     "iopub.execute_input": "2021-08-02T04:49:49.229141Z",
     "iopub.status.busy": "2021-08-02T04:49:49.228032Z",
     "iopub.status.idle": "2021-08-02T04:49:49.231204Z",
     "shell.execute_reply": "2021-08-02T04:49:49.230661Z",
     "shell.execute_reply.started": "2021-08-02T04:37:53.503048Z"
    },
    "papermill": {
     "duration": 0.035668,
     "end_time": "2021-08-02T04:49:49.231358",
     "exception": false,
     "start_time": "2021-08-02T04:49:49.195690",
     "status": "completed"
    },
    "tags": []
   },
   "outputs": [],
   "source": [
    "def request_to_string(url):\n",
    "    r = requests.get(url)\n",
    "    StringData = StringIO(r.text)\n",
    "    return StringData \n",
    "\n",
    "def show_country_name_differences(df):\n",
    "    countries = df.index.get_level_values(0)\n",
    "    missing_countries = countries[~countries.isin(df_country_join_key.iloc[:,0])].unique()\n",
    "    missing_countries_str = \", \".join(missing_countries)\n",
    "    print(f\"Missing country names: {missing_countries_str}\")\n",
    "\n",
    "def add_column_to_join_key_mapping_df(mapping_dict,mapping_column):\n",
    "    df_country_join_key[mapping_column] = df_country_join_key.index.map(mapping_dict)\n",
    "\n",
    "    \n",
    "def align_join_keys(align_key_column,df_tmp):\n",
    "    rename_dict = df_country_join_key[df_country_join_key[align_key_column].notna()][['DataCommons_name_1',align_key_column]].set_index(align_key_column).to_dict()['DataCommons_name_1']\n",
    "    \n",
    "    df_tmp = df_tmp.rename(index=rename_dict,level=0)\n",
    "    \n",
    "    columns_to_drop = df_tmp.loc[~df_tmp.index.get_level_values(0).isin(df_country_join_key['DataCommons_name_1']),:].index\n",
    "    df_tmp = df_tmp.drop(columns_to_drop,axis=0)\n",
    "    return df_tmp\n",
    "\n",
    "def make_path_and_save_csv(path, filename,df):\n",
    "    Path(path).mkdir(parents=True, exist_ok=True)\n",
    "    df.to_csv(f'{path}{filename}')"
   ]
  },
  {
   "cell_type": "markdown",
   "id": "1f24b854",
   "metadata": {
    "papermill": {
     "duration": 0.016112,
     "end_time": "2021-08-02T04:49:49.264125",
     "exception": false,
     "start_time": "2021-08-02T04:49:49.248013",
     "status": "completed"
    },
    "tags": []
   },
   "source": [
    "# OWID Panel"
   ]
  },
  {
   "cell_type": "code",
   "execution_count": 4,
   "id": "75f042a1",
   "metadata": {
    "execution": {
     "iopub.execute_input": "2021-08-02T04:49:49.304373Z",
     "iopub.status.busy": "2021-08-02T04:49:49.303225Z",
     "iopub.status.idle": "2021-08-02T04:49:56.798643Z",
     "shell.execute_reply": "2021-08-02T04:49:56.798086Z",
     "shell.execute_reply.started": "2021-08-02T04:37:54.024325Z"
    },
    "papermill": {
     "duration": 7.518221,
     "end_time": "2021-08-02T04:49:56.798795",
     "exception": false,
     "start_time": "2021-08-02T04:49:49.280574",
     "status": "completed"
    },
    "tags": []
   },
   "outputs": [],
   "source": [
    "StringData = request_to_string('https://covid.ourworldindata.org/data/owid-covid-data.csv?raw=true')\n",
    "dict_df['owid_panel'] = pd.read_csv(StringData,index_col=[2,3],parse_dates=[3])\n",
    "make_path_and_save_csv(f'{csv_path}RAW/owid/','owid-covid-data-panel.csv',dict_df['owid_panel'])\n",
    "dict_df['owid_panel'] = dict_df['owid_panel'].drop(columns=['iso_code','continent'])"
   ]
  },
  {
   "cell_type": "markdown",
   "id": "93f5d064",
   "metadata": {
    "papermill": {
     "duration": 0.016392,
     "end_time": "2021-08-02T04:49:56.831783",
     "exception": false,
     "start_time": "2021-08-02T04:49:56.815391",
     "status": "completed"
    },
    "tags": []
   },
   "source": [
    "# OWID Variants"
   ]
  },
  {
   "cell_type": "code",
   "execution_count": 5,
   "id": "3ac4cb17",
   "metadata": {
    "execution": {
     "iopub.execute_input": "2021-08-02T04:49:56.876331Z",
     "iopub.status.busy": "2021-08-02T04:49:56.875602Z",
     "iopub.status.idle": "2021-08-02T04:49:57.731283Z",
     "shell.execute_reply": "2021-08-02T04:49:57.730723Z",
     "shell.execute_reply.started": "2021-08-02T04:38:01.036723Z"
    },
    "papermill": {
     "duration": 0.883002,
     "end_time": "2021-08-02T04:49:57.731443",
     "exception": false,
     "start_time": "2021-08-02T04:49:56.848441",
     "status": "completed"
    },
    "tags": []
   },
   "outputs": [],
   "source": [
    "StringData = request_to_string('https://raw.githubusercontent.com/owid/covid-19-data/master/public/data/variants/covid-variants.csv?raw=true')\n",
    "df_owid_variants_raw = pd.read_csv(StringData,index_col=[0,1,2],parse_dates=[1])\n",
    "make_path_and_save_csv(f'{csv_path}RAW/owid/','owid-covid-variants.csv',df_owid_variants_raw)\n",
    "\n",
    "\n",
    "variants_of_concern = ['Alpha','Beta','Delta','Gamma']\n",
    "\n",
    "dict_df['owid_variants'] = None\n",
    "\n",
    "for variant in variants_of_concern:\n",
    "    df_owid_variants_tmp = df_owid_variants_raw.loc[(slice(None),slice(None),variant),:]\n",
    "    df_owid_variants_tmp = df_owid_variants_tmp.rename(columns={'num_sequences':f'{variant}_num_sequences','perc_sequences':f'{variant}_perc_sequences'})\n",
    "    df_owid_variants_tmp = df_owid_variants_tmp.droplevel('variant')\n",
    "\n",
    "    if dict_df['owid_variants'] is None:\n",
    "        dict_df['owid_variants'] = df_owid_variants_tmp[['num_sequences_total',f'{variant}_num_sequences',f'{variant}_perc_sequences']]\n",
    "    else:\n",
    "        dict_df['owid_variants'] = dict_df['owid_variants'].merge(df_owid_variants_tmp.drop(['num_sequences_total'],axis=1),left_index=True,right_index=True)\n",
    "\n",
    "df_owid_variants_raw = None #save memory\n",
    "df_owid_variants_tmp = None #save memory"
   ]
  },
  {
   "cell_type": "markdown",
   "id": "bd593978",
   "metadata": {
    "papermill": {
     "duration": 0.018792,
     "end_time": "2021-08-02T04:49:57.767733",
     "exception": false,
     "start_time": "2021-08-02T04:49:57.748941",
     "status": "completed"
    },
    "tags": []
   },
   "source": [
    "# OWID Vaccinations by Manufacturer"
   ]
  },
  {
   "cell_type": "code",
   "execution_count": 6,
   "id": "b797db45",
   "metadata": {
    "execution": {
     "iopub.execute_input": "2021-08-02T04:49:57.806421Z",
     "iopub.status.busy": "2021-08-02T04:49:57.805426Z",
     "iopub.status.idle": "2021-08-02T04:49:59.745965Z",
     "shell.execute_reply": "2021-08-02T04:49:59.746487Z",
     "shell.execute_reply.started": "2021-08-02T04:38:01.376986Z"
    },
    "papermill": {
     "duration": 1.961643,
     "end_time": "2021-08-02T04:49:59.746671",
     "exception": false,
     "start_time": "2021-08-02T04:49:57.785028",
     "status": "completed"
    },
    "tags": []
   },
   "outputs": [],
   "source": [
    "StringData = request_to_string('https://github.com/owid/covid-19-data/blob/master/public/data/vaccinations/vaccinations-by-manufacturer.csv?raw=true')\n",
    "df_owid_vaccines_raw = pd.read_csv(StringData,index_col=[0,1,2],parse_dates=[1])\n",
    "make_path_and_save_csv(f'{csv_path}RAW/owid/','owid-covid-vaccines.csv',df_owid_vaccines_raw)\n",
    "\n",
    "vaccines = df_owid_vaccines_raw.index.get_level_values(2).unique()\n",
    "\n",
    "\n",
    "dict_df['owid_vaccines'] = None\n",
    "\n",
    "for vaccine in vaccines:\n",
    "    df_owid_vaccines_tmp = df_owid_vaccines_raw.loc[(slice(None),slice(None),vaccine),:]\n",
    "    df_owid_vaccines_tmp = df_owid_vaccines_tmp.rename(columns={'total_vaccinations':f'{vaccine}_total_vaccinations'})\n",
    "    df_owid_vaccines_tmp[f'{vaccine}_new_vaccinations'] = df_owid_vaccines_tmp[f'{vaccine}_total_vaccinations'].diff(1)\n",
    "    df_owid_vaccines_tmp = df_owid_vaccines_tmp.droplevel('vaccine')\n",
    "\n",
    "    if dict_df['owid_vaccines'] is None:\n",
    "        dict_df['owid_vaccines'] = df_owid_vaccines_tmp\n",
    "    else:\n",
    "        dict_df['owid_vaccines'] = dict_df['owid_vaccines'].merge(df_owid_vaccines_tmp,left_index=True,right_index=True,how='outer')\n",
    "\n",
    "df_owid_vaccines_tmp = None\n",
    "df_owid_vaccines_raw = None"
   ]
  },
  {
   "cell_type": "markdown",
   "id": "f03c9156",
   "metadata": {
    "papermill": {
     "duration": 0.016211,
     "end_time": "2021-08-02T04:49:59.779588",
     "exception": false,
     "start_time": "2021-08-02T04:49:59.763377",
     "status": "completed"
    },
    "tags": []
   },
   "source": [
    "# Google Mobility Data"
   ]
  },
  {
   "cell_type": "markdown",
   "id": "1ec3d0cd",
   "metadata": {
    "papermill": {
     "duration": 0.016038,
     "end_time": "2021-08-02T04:49:59.812008",
     "exception": false,
     "start_time": "2021-08-02T04:49:59.795970",
     "status": "completed"
    },
    "tags": []
   },
   "source": [
    "## Download and parse data\n",
    "This is a large file"
   ]
  },
  {
   "cell_type": "code",
   "execution_count": 7,
   "id": "b17d0f3c",
   "metadata": {
    "execution": {
     "iopub.execute_input": "2021-08-02T04:49:59.848480Z",
     "iopub.status.busy": "2021-08-02T04:49:59.847528Z",
     "iopub.status.idle": "2021-08-02T04:52:21.287472Z",
     "shell.execute_reply": "2021-08-02T04:52:21.286808Z",
     "shell.execute_reply.started": "2021-08-02T04:44:01.800105Z"
    },
    "papermill": {
     "duration": 141.459195,
     "end_time": "2021-08-02T04:52:21.287643",
     "exception": false,
     "start_time": "2021-08-02T04:49:59.828448",
     "status": "completed"
    },
    "tags": []
   },
   "outputs": [
    {
     "name": "stderr",
     "output_type": "stream",
     "text": [
      "/opt/conda/lib/python3.7/site-packages/IPython/core/interactiveshell.py:3170: DtypeWarning: Columns (3,4,5) have mixed types.Specify dtype option on import or set low_memory=False.\n",
      "  interactivity=interactivity, compiler=compiler, result=result)\n"
     ]
    }
   ],
   "source": [
    "StringData = request_to_string('https://www.gstatic.com/covid19/mobility/Global_Mobility_Report.csv')\n",
    "#df_goog_mobility = pd.read_csv(StringData,usecols=[1,2,8,9,10,11,12,13,14],parse_dates=[8])\n",
    "df_goog_mobility = pd.read_csv(StringData,parse_dates=[8])\n",
    "StringData = None\n",
    "make_path_and_save_csv(f'{csv_path}RAW/google/','google-mobility.csv',df_goog_mobility)\n",
    "df_goog_mobility = df_goog_mobility[df_goog_mobility['sub_region_1'].isna()] #remove subregions\n",
    "\n",
    "mobility_columns = ['retail_and_recreation_percent_change_from_baseline','grocery_and_pharmacy_percent_change_from_baseline','parks_percent_change_from_baseline','transit_stations_percent_change_from_baseline','workplaces_percent_change_from_baseline','residential_percent_change_from_baseline']\n",
    "df_goog_mobility = df_goog_mobility.groupby(['country_region', 'date'])[mobility_columns].mean()\n"
   ]
  },
  {
   "cell_type": "code",
   "execution_count": 8,
   "id": "fb7b408d",
   "metadata": {
    "execution": {
     "iopub.execute_input": "2021-08-02T04:52:21.331125Z",
     "iopub.status.busy": "2021-08-02T04:52:21.329977Z",
     "iopub.status.idle": "2021-08-02T04:52:22.932305Z",
     "shell.execute_reply": "2021-08-02T04:52:22.931708Z",
     "shell.execute_reply.started": "2021-08-02T04:46:22.473316Z"
    },
    "papermill": {
     "duration": 1.627037,
     "end_time": "2021-08-02T04:52:22.932451",
     "exception": false,
     "start_time": "2021-08-02T04:52:21.305414",
     "status": "completed"
    },
    "tags": []
   },
   "outputs": [],
   "source": [
    "rename_dict = {\"CÃ´te d'Ivoire\": \"Cote d'Ivoire\", \"Myanmar (Burma)\" : \"Myanmar\" ,'The Bahamas' : \"Bahamas\"}\n",
    "df_goog_mobility = df_goog_mobility.rename(index=rename_dict,level=0)\n",
    "\n",
    "countries_to_drop = ['Puerto Rico','RÃ©union']\n",
    "\n",
    "columns_to_drop = df_goog_mobility.loc[df_goog_mobility.index.get_level_values(0).isin(countries_to_drop),:].index\n",
    "df_goog_mobility = df_goog_mobility.drop(columns_to_drop,axis=0)\n",
    "df_goog_mobility.index.rename(['location','date'],inplace=True)\n",
    "\n",
    "dict_df['goog_mobility'] = df_goog_mobility\n",
    "df_goog_mobility = None"
   ]
  },
  {
   "cell_type": "markdown",
   "id": "c66a6ada",
   "metadata": {
    "papermill": {
     "duration": 0.017778,
     "end_time": "2021-08-02T04:52:22.967276",
     "exception": false,
     "start_time": "2021-08-02T04:52:22.949498",
     "status": "completed"
    },
    "tags": []
   },
   "source": [
    "# Combine into a single DataFrame"
   ]
  },
  {
   "cell_type": "code",
   "execution_count": 9,
   "id": "2e516b9a",
   "metadata": {
    "execution": {
     "iopub.execute_input": "2021-08-02T04:52:23.008700Z",
     "iopub.status.busy": "2021-08-02T04:52:23.007999Z",
     "iopub.status.idle": "2021-08-02T04:52:23.011288Z",
     "shell.execute_reply": "2021-08-02T04:52:23.010775Z",
     "shell.execute_reply.started": "2021-08-02T04:47:04.402072Z"
    },
    "papermill": {
     "duration": 0.02717,
     "end_time": "2021-08-02T04:52:23.011434",
     "exception": false,
     "start_time": "2021-08-02T04:52:22.984264",
     "status": "completed"
    },
    "tags": []
   },
   "outputs": [],
   "source": [
    "def get_global_list(dict_df,level):\n",
    "    global_list = np.empty(0,dtype=np.datetime64)\n",
    "    \n",
    "    for df in dict_df:\n",
    "        global_list = np.concatenate((global_list,np.array(dict_df[df].index.get_level_values(level).unique())))        \n",
    "        \n",
    "    return sorted(np.unique(global_list))\n"
   ]
  },
  {
   "cell_type": "code",
   "execution_count": 10,
   "id": "6e0f5690",
   "metadata": {
    "execution": {
     "iopub.execute_input": "2021-08-02T04:52:23.063838Z",
     "iopub.status.busy": "2021-08-02T04:52:23.051498Z",
     "iopub.status.idle": "2021-08-02T04:52:23.096389Z",
     "shell.execute_reply": "2021-08-02T04:52:23.095772Z",
     "shell.execute_reply.started": "2021-08-02T04:47:04.883595Z"
    },
    "papermill": {
     "duration": 0.067806,
     "end_time": "2021-08-02T04:52:23.096540",
     "exception": false,
     "start_time": "2021-08-02T04:52:23.028734",
     "status": "completed"
    },
    "tags": []
   },
   "outputs": [],
   "source": [
    "countries= get_global_list(dict_df,0)\n",
    "dates = get_global_list(dict_df,1)\n",
    "date_range = pd.date_range(min(dates),max(dates))\n",
    "idx = pd.MultiIndex.from_product([countries,date_range],names=['location','date'])\n"
   ]
  },
  {
   "cell_type": "code",
   "execution_count": 11,
   "id": "e676b078",
   "metadata": {
    "execution": {
     "iopub.execute_input": "2021-08-02T04:52:23.137465Z",
     "iopub.status.busy": "2021-08-02T04:52:23.136744Z",
     "iopub.status.idle": "2021-08-02T04:52:30.643692Z",
     "shell.execute_reply": "2021-08-02T04:52:30.643010Z",
     "shell.execute_reply.started": "2021-08-02T04:47:06.485534Z"
    },
    "papermill": {
     "duration": 7.530317,
     "end_time": "2021-08-02T04:52:30.643848",
     "exception": false,
     "start_time": "2021-08-02T04:52:23.113531",
     "status": "completed"
    },
    "tags": []
   },
   "outputs": [],
   "source": [
    "\n",
    "df_covid = pd.DataFrame(index=idx)\n",
    "for df in dict_df:\n",
    "    df_covid = df_covid.merge(dict_df[df],left_index=True,right_index=True,how='outer')\n",
    "\n",
    "dict_df = None\n"
   ]
  },
  {
   "cell_type": "markdown",
   "id": "f20d2d97",
   "metadata": {
    "papermill": {
     "duration": 0.016606,
     "end_time": "2021-08-02T04:52:30.677689",
     "exception": false,
     "start_time": "2021-08-02T04:52:30.661083",
     "status": "completed"
    },
    "tags": []
   },
   "source": [
    "## Add calculated field for vaccines"
   ]
  },
  {
   "cell_type": "code",
   "execution_count": 12,
   "id": "bd5b64c9",
   "metadata": {
    "execution": {
     "iopub.execute_input": "2021-08-02T04:52:30.718082Z",
     "iopub.status.busy": "2021-08-02T04:52:30.717407Z",
     "iopub.status.idle": "2021-08-02T04:52:30.757849Z",
     "shell.execute_reply": "2021-08-02T04:52:30.757159Z",
     "shell.execute_reply.started": "2021-08-02T04:47:14.293976Z"
    },
    "papermill": {
     "duration": 0.063223,
     "end_time": "2021-08-02T04:52:30.758003",
     "exception": false,
     "start_time": "2021-08-02T04:52:30.694780",
     "status": "completed"
    },
    "tags": []
   },
   "outputs": [],
   "source": [
    "for vaccine in vaccines:\n",
    "    df_covid[f'{vaccine}_perc_of_total_vaccinations'] = df_covid[f'{vaccine}_total_vaccinations']/df_covid['total_vaccinations']\n",
    "    df_covid[f'{vaccine}_perc_of_new_vaccinations'] = df_covid[f'{vaccine}_new_vaccinations']/df_covid['new_vaccinations']"
   ]
  },
  {
   "cell_type": "markdown",
   "id": "a40a2464",
   "metadata": {
    "papermill": {
     "duration": 0.016754,
     "end_time": "2021-08-02T04:52:30.791890",
     "exception": false,
     "start_time": "2021-08-02T04:52:30.775136",
     "status": "completed"
    },
    "tags": []
   },
   "source": [
    "## Create monolithic DataFrame and save to CSV"
   ]
  },
  {
   "cell_type": "code",
   "execution_count": 13,
   "id": "007c53ec",
   "metadata": {
    "execution": {
     "iopub.execute_input": "2021-08-02T04:52:30.831776Z",
     "iopub.status.busy": "2021-08-02T04:52:30.831030Z",
     "iopub.status.idle": "2021-08-02T04:52:30.944467Z",
     "shell.execute_reply": "2021-08-02T04:52:30.943908Z",
     "shell.execute_reply.started": "2021-08-02T04:48:41.666750Z"
    },
    "papermill": {
     "duration": 0.135711,
     "end_time": "2021-08-02T04:52:30.944618",
     "exception": false,
     "start_time": "2021-08-02T04:52:30.808907",
     "status": "completed"
    },
    "tags": []
   },
   "outputs": [],
   "source": [
    "columns_ordered = sorted(df_covid.columns)\n",
    "df_covid = df_covid.reindex(columns=columns_ordered)\n"
   ]
  },
  {
   "cell_type": "code",
   "execution_count": 14,
   "id": "c7b14213",
   "metadata": {
    "execution": {
     "iopub.execute_input": "2021-08-02T04:52:30.984999Z",
     "iopub.status.busy": "2021-08-02T04:52:30.984359Z",
     "iopub.status.idle": "2021-08-02T04:52:41.006017Z",
     "shell.execute_reply": "2021-08-02T04:52:41.005461Z",
     "shell.execute_reply.started": "2021-08-02T04:48:41.989058Z"
    },
    "papermill": {
     "duration": 10.044228,
     "end_time": "2021-08-02T04:52:41.006185",
     "exception": false,
     "start_time": "2021-08-02T04:52:30.961957",
     "status": "completed"
    },
    "tags": []
   },
   "outputs": [],
   "source": [
    "df_covid.to_csv('COVID_panel.csv')"
   ]
  }
 ],
 "metadata": {
  "kernelspec": {
   "display_name": "Python 3",
   "language": "python",
   "name": "python3"
  },
  "language_info": {
   "codemirror_mode": {
    "name": "ipython",
    "version": 3
   },
   "file_extension": ".py",
   "mimetype": "text/x-python",
   "name": "python",
   "nbconvert_exporter": "python",
   "pygments_lexer": "ipython3",
   "version": "3.7.10"
  },
  "papermill": {
   "default_parameters": {},
   "duration": 181.914646,
   "end_time": "2021-08-02T04:52:42.423890",
   "environment_variables": {},
   "exception": null,
   "input_path": "__notebook__.ipynb",
   "output_path": "__notebook__.ipynb",
   "parameters": {},
   "start_time": "2021-08-02T04:49:40.509244",
   "version": "2.3.3"
  }
 },
 "nbformat": 4,
 "nbformat_minor": 5
}
